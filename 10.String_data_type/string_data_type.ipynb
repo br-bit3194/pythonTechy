{
 "cells": [
  {
   "cell_type": "markdown",
   "id": "3711785b",
   "metadata": {},
   "source": [
    "## f-strings: formatted string\n",
    "* Till now if we want to print the variable value in the print statement<br>\n",
    "  we do like:<br>\n",
    "  print(\"your name\", variable)\n",
    "\n",
    "* There is an another better way of doing that.\n",
    "* prefix f to strings and write down the variable names inside {}"
   ]
  },
  {
   "cell_type": "code",
   "execution_count": 4,
   "id": "74786377",
   "metadata": {},
   "outputs": [
    {
     "name": "stdout",
     "output_type": "stream",
     "text": [
      "Hey, John Doe! How are you?\n"
     ]
    }
   ],
   "source": [
    "name = \"John Doe\"\n",
    "print(f\"Hey, {name}! How are you?\")"
   ]
  },
  {
   "cell_type": "markdown",
   "id": "b021f1bd",
   "metadata": {},
   "source": [
    "## Storing Names and Addresses"
   ]
  },
  {
   "cell_type": "code",
   "execution_count": 5,
   "id": "9725d3f4",
   "metadata": {},
   "outputs": [
    {
     "name": "stdout",
     "output_type": "stream",
     "text": [
      "Name: John Doe\n",
      "Address: 123 Main Street, Springfield, USA\n"
     ]
    }
   ],
   "source": [
    "# Example\n",
    "name = \"John Doe\"\n",
    "address = \"123 Main Street, Springfield, USA\"\n",
    "\n",
    "# Explanation\n",
    "# These strings hold personal information such as names and addresses.\n",
    "print(f\"Name: {name}\")\n",
    "print(f\"Address: {address}\")"
   ]
  },
  {
   "cell_type": "markdown",
   "id": "2805eccf",
   "metadata": {},
   "source": [
    "## 2. User Input and Output"
   ]
  },
  {
   "cell_type": "code",
   "execution_count": 3,
   "id": "f1513070",
   "metadata": {},
   "outputs": [
    {
     "name": "stdout",
     "output_type": "stream",
     "text": [
      "What is your favorite color? yellow\n",
      "Your favorite color is yellow.\n"
     ]
    }
   ],
   "source": [
    "# Example\n",
    "# Asking the user for their favorite color\n",
    "favorite_color = input(\"What is your favorite color? \")\n",
    "\n",
    "# Explanation\n",
    "# The input() function captures user input as a string.\n",
    "print(f\"Your favorite color is {favorite_color}.\")"
   ]
  },
  {
   "cell_type": "markdown",
   "id": "32ac1245",
   "metadata": {},
   "source": [
    "## 3. Formatting Strings"
   ]
  },
  {
   "cell_type": "code",
   "execution_count": 6,
   "id": "ba934c1b",
   "metadata": {},
   "outputs": [
    {
     "name": "stdout",
     "output_type": "stream",
     "text": [
      "Hello, my name is Alice and I am 28 years old.\n"
     ]
    }
   ],
   "source": [
    "# Example\n",
    "name = \"Alice\"\n",
    "age = 28\n",
    "\n",
    "# Explanation\n",
    "# Using f-strings to format and include variables within a string\n",
    "intro = f\"Hello, my name is {name} and I am {age} years old.\"\n",
    "print(intro)"
   ]
  },
  {
   "cell_type": "markdown",
   "id": "ca41691a",
   "metadata": {},
   "source": [
    "## 4. Storing URLs"
   ]
  },
  {
   "cell_type": "code",
   "execution_count": 9,
   "id": "8236755e",
   "metadata": {},
   "outputs": [
    {
     "name": "stdout",
     "output_type": "stream",
     "text": [
      "Search URL: https://www.linkedin.com/in/bhaveshkumar-rathod\n"
     ]
    }
   ],
   "source": [
    "# Example\n",
    "base_url = \"https://www.linkedin.com/in/\"\n",
    "query = \"bhaveshkumar-rathod\"\n",
    "full_url = base_url + query\n",
    "\n",
    "# Explanation\n",
    "# Constructing a URL by concatenating strings\n",
    "print(f\"Search URL: {full_url}\")"
   ]
  },
  {
   "cell_type": "markdown",
   "id": "63a0afae",
   "metadata": {},
   "source": [
    "## 5. Email Content"
   ]
  },
  {
   "cell_type": "code",
   "execution_count": 10,
   "id": "981c3b5a",
   "metadata": {},
   "outputs": [
    {
     "name": "stdout",
     "output_type": "stream",
     "text": [
      "Subject: Meeting Reminder\n",
      "\n",
      "Dear team,\n",
      "\n",
      "This is a reminder for our meeting scheduled at 3 PM tomorrow.\n",
      "\n",
      "Best regards,\n",
      "Management\n"
     ]
    }
   ],
   "source": [
    "# Example\n",
    "subject = \"Meeting Reminder\"\n",
    "body = \"Dear team,\\n\\nThis is a reminder for our meeting scheduled at 3 PM tomorrow.\\n\\nBest regards,\\nManagement\"\n",
    "\n",
    "# Explanation\n",
    "# Strings can be used to store and format the content of an email.\n",
    "print(f\"Subject: {subject}\\n\")\n",
    "print(body)"
   ]
  },
  {
   "cell_type": "markdown",
   "id": "1cae019a",
   "metadata": {},
   "source": [
    "## 6. Generating Reports"
   ]
  },
  {
   "cell_type": "code",
   "execution_count": 11,
   "id": "83d1d05c",
   "metadata": {},
   "outputs": [
    {
     "name": "stdout",
     "output_type": "stream",
     "text": [
      "Monthly Sales Report\n",
      "\n",
      "Total Sales: $10,000\n",
      "Number of Transactions: 150\n"
     ]
    }
   ],
   "source": [
    "# Example\n",
    "report_title = \"Monthly Sales Report\"\n",
    "report_body = \"Total Sales: $10,000\\nNumber of Transactions: 150\"\n",
    "\n",
    "# Explanation\n",
    "# Strings are used to compile and present report data.\n",
    "full_report = f\"{report_title}\\n\\n{report_body}\"\n",
    "print(full_report)"
   ]
  },
  {
   "cell_type": "markdown",
   "id": "30831640",
   "metadata": {},
   "source": [
    "## In texting (Conversation Example)"
   ]
  },
  {
   "cell_type": "code",
   "execution_count": 15,
   "id": "d74a8a1d",
   "metadata": {},
   "outputs": [
    {
     "name": "stdout",
     "output_type": "stream",
     "text": [
      "ram: Hey, shyam! Whatsapp ?\n",
      "shyam: Hey bro! Doing good 😃\n"
     ]
    }
   ],
   "source": [
    "ram = \"Hey, shyam! Whatsapp ?\"\n",
    "shyam = \"Hey bro! Doing good 😃\"\n",
    "print(f\"ram: {ram}\")\n",
    "print(f\"shyam: {shyam}\")"
   ]
  },
  {
   "cell_type": "code",
   "execution_count": null,
   "id": "f7a0fd2f",
   "metadata": {},
   "outputs": [],
   "source": []
  }
 ],
 "metadata": {
  "kernelspec": {
   "display_name": "Python 3 (ipykernel)",
   "language": "python",
   "name": "python3"
  },
  "language_info": {
   "codemirror_mode": {
    "name": "ipython",
    "version": 3
   },
   "file_extension": ".py",
   "mimetype": "text/x-python",
   "name": "python",
   "nbconvert_exporter": "python",
   "pygments_lexer": "ipython3",
   "version": "3.10.12"
  }
 },
 "nbformat": 4,
 "nbformat_minor": 5
}
